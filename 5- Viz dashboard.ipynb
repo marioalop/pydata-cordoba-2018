{
 "cells": [
  {
   "cell_type": "markdown",
   "metadata": {},
   "source": [
    "![pydatalogo](https://user-images.githubusercontent.com/7065401/46249227-f76b1d80-c3fb-11e8-931e-8a9adc12bd4e.png)\n",
    "\n",
    "<div style=\"color: #444; text-align: center;\">\n",
    "    <b>Córdoba 2018</b>\n",
    "    <br>\n",
    "    <span>Matías Caputti</span>\n",
    "</div>\n",
    "\n",
    "---\n",
    "\n",
    "# Deep network visualization\n",
    "---\n",
    "\n",
    "Load again our last model:"
   ]
  },
  {
   "cell_type": "code",
   "execution_count": null,
   "metadata": {
    "scrolled": false
   },
   "outputs": [],
   "source": [
    "from keras.models import load_model\n",
    "\n",
    "model = load_model('fruit_cnn_model.h5')\n",
    "model.summary()"
   ]
  },
  {
   "cell_type": "markdown",
   "metadata": {},
   "source": [
    "<img width=\"550\" alt=\"\" src=\"https://user-images.githubusercontent.com/7065401/46251999-2a330700-c438-11e8-8926-0d5de9ed2c38.png\">"
   ]
  },
  {
   "cell_type": "markdown",
   "metadata": {},
   "source": [
    "---\n",
    "## Launch visualization dashboard"
   ]
  },
  {
   "cell_type": "code",
   "execution_count": null,
   "metadata": {},
   "outputs": [],
   "source": [
    "!pip install gevent git+git://github.com/keplr-io/quiver.git"
   ]
  },
  {
   "cell_type": "code",
   "execution_count": null,
   "metadata": {
    "scrolled": false
   },
   "outputs": [],
   "source": [
    "from quiver_engine import server\n",
    "\n",
    "server.launch(model=model,\n",
    "              classes=[], #readable_labels\n",
    "              port=6006,\n",
    "              input_folder='./data/apples')"
   ]
  },
  {
   "cell_type": "markdown",
   "metadata": {},
   "source": [
    "<img src=\"https://camo.githubusercontent.com/53f6fb6ccefefd87dc93af20b8e7972573de9828/68747470733a2f2f757365722d696d616765732e67697468756275736572636f6e74656e742e636f6d2f373036353430312f33393131393531382d35396661353163652d343665632d313165382d383530332d3566383133363535386632622e706e67\">\n",
    "\n",
    "<a href=\"https://rmotr.com\" target=\"_blank\"><img src=\"https://camo.githubusercontent.com/cc5541fa8bc6f822cb8d5b4261a23f20ec8321f4/68747470733a2f2f757365722d696d616765732e67697468756275736572636f6e74656e742e636f6d2f373036353430312f33393131393438362d34373138653338362d343665632d313165382d396663332d3532353061343965663537302e706e67\">\n",
    "</a>"
   ]
  }
 ],
 "metadata": {
  "kernelspec": {
   "display_name": "Python 3",
   "language": "python",
   "name": "python3"
  },
  "language_info": {
   "codemirror_mode": {
    "name": "ipython",
    "version": 3
   },
   "file_extension": ".py",
   "mimetype": "text/x-python",
   "name": "python",
   "nbconvert_exporter": "python",
   "pygments_lexer": "ipython3",
   "version": "3.6.5"
  }
 },
 "nbformat": 4,
 "nbformat_minor": 2
}
